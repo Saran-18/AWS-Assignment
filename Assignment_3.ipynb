{
  "nbformat": 4,
  "nbformat_minor": 0,
  "metadata": {
    "colab": {
      "provenance": []
    },
    "kernelspec": {
      "name": "python3",
      "display_name": "Python 3"
    },
    "language_info": {
      "name": "python"
    }
  },
  "cells": [
    {
      "cell_type": "code",
      "execution_count": 1,
      "metadata": {
        "colab": {
          "base_uri": "https://localhost:8080/"
        },
        "id": "98e4YYoa0JDe",
        "outputId": "5ad4bc03-03d9-4bc4-a7df-75292d27570d"
      },
      "outputs": [
        {
          "output_type": "stream",
          "name": "stdout",
          "text": [
            "Concatenated string: Hello saran\n"
          ]
        }
      ],
      "source": [
        "str1 = \"Hello\"\n",
        "str2 = \"saran\"\n",
        "concatenated_string = str1 + \" \" + str2\n",
        "print(\"Concatenated string:\", concatenated_string)"
      ]
    },
    {
      "cell_type": "code",
      "source": [
        "name = \"saran\"\n",
        "age = 19\n",
        "formatted_string = \"Name: %s, Age: %d\" % (name, age)\n",
        "print(\"Formatted string:\", formatted_string)"
      ],
      "metadata": {
        "colab": {
          "base_uri": "https://localhost:8080/"
        },
        "id": "IXFJj7k20clF",
        "outputId": "0d4af361-0eba-4e60-fcb5-aa7ca772cc31"
      },
      "execution_count": 2,
      "outputs": [
        {
          "output_type": "stream",
          "name": "stdout",
          "text": [
            "Formatted string: Name: saran, Age: 19\n"
          ]
        }
      ]
    },
    {
      "cell_type": "code",
      "source": [
        "from string import Template\n",
        "template = Template('Name: saran,age: 19')\n",
        "formatted_string = template.substitute(name=name, age=age)\n",
        "print(\"Formatted string:\", formatted_string)"
      ],
      "metadata": {
        "colab": {
          "base_uri": "https://localhost:8080/"
        },
        "id": "X0ki6ezw0chk",
        "outputId": "b1e4abfe-bc8a-47d3-f9d1-6cd791633f8d"
      },
      "execution_count": 4,
      "outputs": [
        {
          "output_type": "stream",
          "name": "stdout",
          "text": [
            "Formatted string: Name: saran,age: 19\n"
          ]
        }
      ]
    },
    {
      "cell_type": "code",
      "source": [
        "formatted_string = \"Name: {}, Age: {}\".format(name, age)\n",
        "print(\"Formatted string:\", formatted_string)"
      ],
      "metadata": {
        "colab": {
          "base_uri": "https://localhost:8080/"
        },
        "id": "CMZBmtNx0ccB",
        "outputId": "3bb139ea-5408-43c0-fb45-b1e9897fafda"
      },
      "execution_count": 5,
      "outputs": [
        {
          "output_type": "stream",
          "name": "stdout",
          "text": [
            "Formatted string: Name: saran, Age: 19\n"
          ]
        }
      ]
    },
    {
      "cell_type": "code",
      "source": [
        "result_add = 5 + 5\n",
        "print(\"Addition result:\", result_add)"
      ],
      "metadata": {
        "colab": {
          "base_uri": "https://localhost:8080/"
        },
        "id": "I9M0qw7R0cZO",
        "outputId": "f7a14cb5-b8f6-4df9-ce38-f09a09b93d57"
      },
      "execution_count": 7,
      "outputs": [
        {
          "output_type": "stream",
          "name": "stdout",
          "text": [
            "Addition result: 10\n"
          ]
        }
      ]
    },
    {
      "cell_type": "code",
      "source": [
        "result_sub = 74 - 3\n",
        "print(\"Subtraction result:\", result_sub)\n",
        ""
      ],
      "metadata": {
        "colab": {
          "base_uri": "https://localhost:8080/"
        },
        "id": "WOagKf4A0cWn",
        "outputId": "d8a71948-5766-4487-b1c9-27dd3fd36421"
      },
      "execution_count": 8,
      "outputs": [
        {
          "output_type": "stream",
          "name": "stdout",
          "text": [
            "Subtraction result: 71\n"
          ]
        }
      ]
    },
    {
      "cell_type": "code",
      "source": [
        "result_mul = 7 * 9\n",
        "print(\"Multiplication result:\", result_mul)"
      ],
      "metadata": {
        "colab": {
          "base_uri": "https://localhost:8080/"
        },
        "id": "-AWk7Khs0cT3",
        "outputId": "dcdbb736-8ec8-4d99-e8c2-deb5d4752a3a"
      },
      "execution_count": 9,
      "outputs": [
        {
          "output_type": "stream",
          "name": "stdout",
          "text": [
            "Multiplication result: 63\n"
          ]
        }
      ]
    },
    {
      "cell_type": "code",
      "source": [
        "result_div = 10 / 5\n",
        "print(\"Division result:\", result_div)"
      ],
      "metadata": {
        "colab": {
          "base_uri": "https://localhost:8080/"
        },
        "id": "VQuY41uT0cRG",
        "outputId": "2b4df8c2-a2f0-4186-a65a-06ac060c9b41"
      },
      "execution_count": 10,
      "outputs": [
        {
          "output_type": "stream",
          "name": "stdout",
          "text": [
            "Division result: 2.0\n"
          ]
        }
      ]
    },
    {
      "cell_type": "code",
      "source": [
        "result_exp = 3 ** 5\n",
        "print(\"Exponentiation result:\", result_exp)"
      ],
      "metadata": {
        "colab": {
          "base_uri": "https://localhost:8080/"
        },
        "id": "YLvzZfAs0cON",
        "outputId": "7404dcea-7037-4f77-86e1-c4432029d8ef"
      },
      "execution_count": 11,
      "outputs": [
        {
          "output_type": "stream",
          "name": "stdout",
          "text": [
            "Exponentiation result: 243\n"
          ]
        }
      ]
    },
    {
      "cell_type": "code",
      "source": [
        "result_mod = 24 % 2\n",
        "print(\"Modulus result:\", result_mod)"
      ],
      "metadata": {
        "colab": {
          "base_uri": "https://localhost:8080/"
        },
        "id": "u29Ioam01Tqf",
        "outputId": "0e9754cd-1fd6-41a9-b0d6-49537b7cb98a"
      },
      "execution_count": 12,
      "outputs": [
        {
          "output_type": "stream",
          "name": "stdout",
          "text": [
            "Modulus result: 0\n"
          ]
        }
      ]
    },
    {
      "cell_type": "code",
      "source": [
        "x = 10\n",
        "x -= 3\n",
        "print(\"After subtraction assignment:\", x)"
      ],
      "metadata": {
        "colab": {
          "base_uri": "https://localhost:8080/"
        },
        "id": "5HTLqT1f1Tm3",
        "outputId": "92e20202-4cfb-4912-b5d2-1f91f17c0584"
      },
      "execution_count": 13,
      "outputs": [
        {
          "output_type": "stream",
          "name": "stdout",
          "text": [
            "After subtraction assignment: 7\n"
          ]
        }
      ]
    },
    {
      "cell_type": "code",
      "source": [
        "y = 5\n",
        "y *= 2\n",
        "print(\"After multiplication assignment:\", y)"
      ],
      "metadata": {
        "colab": {
          "base_uri": "https://localhost:8080/"
        },
        "id": "orxN94us1TkP",
        "outputId": "bb3c6b03-4d46-46e5-a1fe-be10177f4bb5"
      },
      "execution_count": 14,
      "outputs": [
        {
          "output_type": "stream",
          "name": "stdout",
          "text": [
            "After multiplication assignment: 10\n"
          ]
        }
      ]
    },
    {
      "cell_type": "code",
      "source": [
        "z = 15\n",
        "z /= 4\n",
        "print(\"After division assignment:\", z)"
      ],
      "metadata": {
        "colab": {
          "base_uri": "https://localhost:8080/"
        },
        "id": "UTrxjoAb1ThS",
        "outputId": "ad6a0049-08ce-4c50-c5be-b9807006f506"
      },
      "execution_count": 15,
      "outputs": [
        {
          "output_type": "stream",
          "name": "stdout",
          "text": [
            "After division assignment: 3.75\n"
          ]
        }
      ]
    }
  ]
}